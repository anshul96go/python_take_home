{
 "cells": [
  {
   "cell_type": "code",
   "execution_count": 193,
   "id": "3875970c",
   "metadata": {},
   "outputs": [],
   "source": [
    "try:\n",
    "    from xgboost import XGBClassifier\n",
    "except:\n",
    "    !conda install -c conda-forge py-xgboost"
   ]
  },
  {
   "cell_type": "code",
   "execution_count": 224,
   "id": "22a09861",
   "metadata": {},
   "outputs": [],
   "source": [
    "import pandas as pd\n",
    "import numpy as np\n",
    "import seaborn as sns;\n",
    "import matplotlib.pyplot as plt\n",
    "\n",
    "from sklearn.linear_model import LogisticRegression\n",
    "from sklearn.tree import DecisionTreeClassifier\n",
    "from sklearn.naive_bayes import MultinomialNB,GaussianNB\n",
    "from sklearn.neighbors import KNeighborsClassifier\n",
    "from sklearn.ensemble import RandomForestClassifier,GradientBoostingClassifier\n",
    "from sklearn.svm import SVC\n",
    "from xgboost import XGBClassifier\n",
    "    \n",
    "from sklearn.model_selection import train_test_split,GridSearchCV\n",
    "\n",
    "from sklearn.metrics import confusion_matrix, accuracy_score, roc_auc_score, average_precision_score\n",
    "\n",
    "from sklearn.preprocessing import MinMaxScaler,StandardScaler\n"
   ]
  },
  {
   "cell_type": "code",
   "execution_count": 284,
   "id": "6035f8e6",
   "metadata": {},
   "outputs": [],
   "source": [
    "class Prediction:\n",
    "    \n",
    "    \n",
    "    def __init__(self,X,y):\n",
    "        self.X = X\n",
    "        self.y = y\n",
    "        self.X_train, self.X_test, self.y_train, self.y_test,self.y_pred = None,None,None,None,None\n",
    "        self.model = None\n",
    "    \n",
    "    \n",
    "    def feature_selection(self):\n",
    "        \n",
    "        # select features with missing values less than 60%\n",
    "        req_cols, final_req_cols = [],[]\n",
    "        X = self.X\n",
    "        for col in self.X.columns:\n",
    "            miss_rate = round(X[col].isna().sum()/len(X),2)\n",
    "            if miss_rate < 0.6:\n",
    "                req_cols.append(col)\n",
    "        \n",
    "        # select features with correlation > 0.2\n",
    "        '''\n",
    "        Improvements:\n",
    "        1. Add visualizations\n",
    "        2. Create different correlations for different type of variables (refer notebook)\n",
    "        '''\n",
    "        df = X[req_cols]\n",
    "        df['target'] = self.y\n",
    "#         g = sns.pairplot(df,hue = 'target', diag_kind= 'hist',\n",
    "#                      vars=df.columns[:-1],\n",
    "#                      plot_kws=dict(alpha=0.5), \n",
    "#                      diag_kws=dict(alpha=0.5))\n",
    "#         plt.show()\n",
    "        corr_matrix = df.corr()\n",
    "        for col in req_cols:\n",
    "            if abs(corr_matrix[\"target\"][col])>0.2:\n",
    "                final_req_cols.append(col)\n",
    "\n",
    "        # update X dataframe which contain only selected features\n",
    "        self.X = X[final_req_cols]\n",
    "        \n",
    "    \n",
    "    def data_split(self, split=0.2):\n",
    "        self.X_train, self.X_test, self.y_train, self.y_test = train_test_split(self.X,self.y,train_size=split)\n",
    "        \n",
    "    \n",
    "    def data_normalization(self):\n",
    "        cols = self.X.columns\n",
    "        scaler = MinMaxScaler()\n",
    "        scaler.fit(self.X)\n",
    "        self.X = pd.DataFrame(scaler.transform(self.X))\n",
    "        self.X.columns = cols\n",
    "    \n",
    "    def logistic_regression(self):\n",
    "        self.model = LogisticRegression()\n",
    "    \n",
    "    \n",
    "    def decision_tree(self):\n",
    "        self.model = DecisionTreeClassifier()\n",
    "    \n",
    "    \n",
    "    def multiomial_naive_bayes(self):\n",
    "        self.model = MultinomialNB()\n",
    "       \n",
    "    \n",
    "    def gaussian_naive_bayes(self):\n",
    "        self.model = GaussianNB()\n",
    "    \n",
    "    \n",
    "    def knn(self):\n",
    "        self.model = KNeighborsClassifier()\n",
    "    \n",
    "    \n",
    "    def rf(self,n_trees=100,criteria='gini',max_depth=None):\n",
    "        self.model = RandomForestClassifier(n_estimators=n_trees, criterion=criteria, max_depth=max_depth)\n",
    "    \n",
    "    \n",
    "    def xgb(self):\n",
    "        self.model = XGBClassifier(objective=\"binary:logistic\")\n",
    "    \n",
    "    \n",
    "    def svm(self):\n",
    "        self.model = SVC(gamma='auto')\n",
    "    \n",
    "    def gradient_boost(self,n_estimators=100, learning_rate=1.0,max_depth=1, random_state=0):\n",
    "        self.model = GradientBoostingClassifier(n_estimators=n_estimators, learning_rate=learning_rate,max_depth=max_depth, random_state=random_state)\n",
    "        \n",
    "    \n",
    "    \n",
    "    def parameter_tuning(self,model='knn',scoring='accuracy',cv=5,given_params=False):\n",
    "        \n",
    "        # check if the parameter grid is given or have to use the the default one\n",
    "        if given_params==False:\n",
    "            # use predefined parameters for each model\n",
    "            if model=='knn':\n",
    "                self.knn()\n",
    "                params = [{'n_neighbors':[3,5,7,9], \n",
    "                           'weights':['uniform','distance'],\n",
    "                           'leaf_size':[15,20,30]}] \n",
    "        \n",
    "        # use parameter grid given\n",
    "        else:\n",
    "            params = given_params\n",
    "            if model=='knn':\n",
    "                self.knn()\n",
    "            \n",
    "        \n",
    "        print(\"params: \",params)\n",
    "        \n",
    "        # initialise grid search\n",
    "        gs = GridSearchCV(estimator=self.model,\n",
    "                  param_grid = params,\n",
    "                  scoring=scoring,\n",
    "                  cv=cv)\n",
    "        \n",
    "        \n",
    "        # fit the data and get results\n",
    "#         try:\n",
    "        gs.fit(self.X_train,self.y_train)\n",
    "        print(gs.best_params_)\n",
    "        print(gs.score(self.X_train,self.y_train))\n",
    "        self.model = gs\n",
    "#         except:\n",
    "#             print(\"The parameters you entered doesn't match the input format. Please refer to the parameter_tuning function to understand the input format for parameter ranges\")\n",
    "#             return\n",
    "        \n",
    "\n",
    "    def predict(self):\n",
    "        # fit/train the model\n",
    "        clf = self.model.fit(self.X_train, self.y_train)\n",
    "        \n",
    "        # make predictions\n",
    "        self.y_pred = clf.predict(self.X_test)\n",
    "    \n",
    "    \n",
    "    def performance(self,threshold=0.5):\n",
    "        '''\n",
    "        Improvements\n",
    "        1. Add visualisations\n",
    "        2. Read and explain the performannce matrix\n",
    "        '''\n",
    "        \n",
    "        \n",
    "#         # convert probability to binary output using given threshold (parameter)\n",
    "#         y_pred_binary = (self.y_pred>threshold).astype(int)\n",
    "#         print(y_pred_binary)\n",
    "#         print(self.y_pred)\n",
    "        \n",
    "        # accuracy\n",
    "        accuracy = accuracy_score(self.y_pred, self.y_test)\n",
    "        print(\"accuracy:\",accuracy)\n",
    "        \n",
    "        # confusion mat/rix\n",
    "        cm = confusion_matrix(self.y_pred, self.y_test)\n",
    "        print(\"confusion matrix:\\n\",cm)\n",
    "        \n",
    "        # roc_auc\n",
    "        roc_auc = roc_auc_score(self.y_pred, self.y_test)\n",
    "        print(\"ROC AUC:\",roc_auc)\n",
    "        \n",
    "        # pr_auc\n",
    "        pr_auc = average_precision_score(self.y_pred, self.y_test)\n",
    "        print(\"PR AUC:\",pr_auc)\n",
    "        \n",
    "        return {'accuracy':accuracy, 'confusion_matrix':cm, 'roc_auc':roc_auc, 'pr_auc':pr_auc}"
   ]
  },
  {
   "cell_type": "code",
   "execution_count": 285,
   "id": "c89be3dc",
   "metadata": {},
   "outputs": [],
   "source": [
    "data = pd.read_csv('../input/heart.csv')\n",
    "X = data[data.columns[:-1]]\n",
    "y = data[data.columns[-1]]"
   ]
  },
  {
   "cell_type": "code",
   "execution_count": 286,
   "id": "fbbd0271",
   "metadata": {},
   "outputs": [],
   "source": [
    "p.model"
   ]
  },
  {
   "cell_type": "code",
   "execution_count": 282,
   "id": "07b81018",
   "metadata": {},
   "outputs": [
    {
     "name": "stdout",
     "output_type": "stream",
     "text": [
      "params:  [{'n_neighbors': [3, 5, 7, 9], 'weights': ['uniform', 'distance'], 'leaf_size': [15, 20, 30]}]\n",
      "{'leaf_size': 15, 'n_neighbors': 3, 'weights': 'uniform'}\n",
      "0.8666666666666667\n",
      "accuracy: 0.7818930041152263\n",
      "confusion matrix:\n",
      " [[ 83  25]\n",
      " [ 28 107]]\n",
      "ROC AUC: 0.7805555555555557\n",
      "PR AUC: 0.7577066965955855\n"
     ]
    }
   ],
   "source": [
    "# with parameter tuning\n",
    "\n",
    "# call class\n",
    "p = Prediction(X,y)\n",
    "\n",
    "# data normalization\n",
    "p.data_normalization()\n",
    "\n",
    "# feature engineering\n",
    "p.feature_selection()\n",
    "\n",
    "# split data into train and test\n",
    "p.data_split()\n",
    "\n",
    "# parameter tuning\n",
    "params = [{'n_neighbors':[3], \n",
    "           'weights':['uniform','distance'],\n",
    "           'leaf_size':[15,20,30]}] \n",
    "p.parameter_tuning(model='knn')\n",
    "\n",
    "# make predictions\n",
    "p.predict()\n",
    "\n",
    "# get model performance\n",
    "performace = p.performance()"
   ]
  },
  {
   "cell_type": "code",
   "execution_count": 287,
   "id": "1b3cda36",
   "metadata": {},
   "outputs": [
    {
     "name": "stdout",
     "output_type": "stream",
     "text": [
      "params:  [{'n_neighbors': [3, 5], 'weights': ['uniform', 'distance'], 'leaf_size': [15, 20, 30]}]\n",
      "{'leaf_size': 15, 'n_neighbors': 5, 'weights': 'distance'}\n",
      "1.0\n",
      "accuracy: 0.8189300411522634\n",
      "confusion matrix:\n",
      " [[ 90  29]\n",
      " [ 15 109]]\n",
      "ROC AUC: 0.8176673895364597\n",
      "PR AUC: 0.7560364829532665\n"
     ]
    }
   ],
   "source": [
    "# with parameter tuning\n",
    "\n",
    "# call class\n",
    "p = Prediction(X,y)\n",
    "\n",
    "# data normalization\n",
    "p.data_normalization()\n",
    "\n",
    "# feature engineering\n",
    "p.feature_selection()\n",
    "\n",
    "# split data into train and test\n",
    "p.data_split()\n",
    "\n",
    "# parameter tuning\n",
    "params = [{'n_neighbors':[3,5], \n",
    "           'weights':['uniform','distance'],\n",
    "           'leaf_size':[15,20,30]}] \n",
    "p.parameter_tuning(model='knn',given_params = params)\n",
    "\n",
    "# make predictions\n",
    "p.predict()\n",
    "\n",
    "# get model performance\n",
    "performace = p.performance()"
   ]
  },
  {
   "cell_type": "code",
   "execution_count": 220,
   "id": "ccdbad18",
   "metadata": {},
   "outputs": [],
   "source": [
    "# without parameter tuning\n",
    "p = Prediction(X,y)\n",
    "p.data_normalization()\n",
    "p.feature_selection()\n",
    "p.data_split()\n",
    "p.knn()\n",
    "p.predict()"
   ]
  },
  {
   "cell_type": "code",
   "execution_count": 221,
   "id": "fb346e75",
   "metadata": {},
   "outputs": [
    {
     "name": "stdout",
     "output_type": "stream",
     "text": [
      "accuracy: 0.7983539094650206\n",
      "confusion matrix:\n",
      " [[ 78  18]\n",
      " [ 31 116]]\n",
      "ROC AUC: 0.8008078231292517\n",
      "PR AUC: 0.8106870535205052\n"
     ]
    },
    {
     "data": {
      "text/plain": [
       "{'accuracy': 0.7983539094650206,\n",
       " 'confusion_matrix': array([[ 78,  18],\n",
       "        [ 31, 116]]),\n",
       " 'roc_auc': 0.8008078231292517,\n",
       " 'pr_auc': 0.8106870535205052}"
      ]
     },
     "execution_count": 221,
     "metadata": {},
     "output_type": "execute_result"
    }
   ],
   "source": [
    "# svm\n",
    "p.performance()"
   ]
  },
  {
   "cell_type": "code",
   "execution_count": 214,
   "id": "82b5181f",
   "metadata": {},
   "outputs": [
    {
     "name": "stdout",
     "output_type": "stream",
     "text": [
      "accuracy: 0.823045267489712\n",
      "confusion matrix:\n",
      " [[ 86  18]\n",
      " [ 25 114]]\n",
      "ROC AUC: 0.8235334809075816\n",
      "PR AUC: 0.8111867408430158\n"
     ]
    },
    {
     "data": {
      "text/plain": [
       "{'accuracy': 0.823045267489712,\n",
       " 'confusion_matrix': array([[ 86,  18],\n",
       "        [ 25, 114]]),\n",
       " 'roc_auc': 0.8235334809075816,\n",
       " 'pr_auc': 0.8111867408430158}"
      ]
     },
     "execution_count": 214,
     "metadata": {},
     "output_type": "execute_result"
    }
   ],
   "source": [
    "#xgb\n",
    "p.performance()"
   ]
  },
  {
   "cell_type": "code",
   "execution_count": null,
   "id": "d81566e6",
   "metadata": {},
   "outputs": [],
   "source": [
    "# xgboost\n",
    "p.performance()"
   ]
  },
  {
   "cell_type": "code",
   "execution_count": 167,
   "id": "6b91950b",
   "metadata": {},
   "outputs": [
    {
     "name": "stdout",
     "output_type": "stream",
     "text": [
      "[0 1 1 1 1 0 1 0 0 1 0 0 0 1 1 0 1 0 0 1 0 0 1 1 0 1 0 0 0 1 1 0 0 1 0 0 1\n",
      " 0 0 1 0 1 0 0 0 0 1 1 1 1 0 1 1 1 1 1 1 0 1 0 1 1 1 0 1 1 1 0 0 0 1 0 1 0\n",
      " 1 1 1 1 0 0 1 1 1 0 0 1 1 1 0 1 1 1 0 0 1 1 1 1 1 0 0 1 1 1 1 1 1 0 1 1 0\n",
      " 0 0 1 1 0 0 0 1 0 1 1 0 0 1 1 1 0 0 1 1 1 1 0 1 0 0 0 0 1 0 0 0 1 0 0 0 0\n",
      " 0 1 1 1 0 1 0 1 0 1 0 1 1 0 1 1 1 1 1 1 1 1 0 0 0 0 0 0 1 1 0 0 0 0 1 1 1\n",
      " 1 1 1 0 1 0 1 1 0 1 0 1 0 1 1 1 0 0 1 1 0 1 1 0 0 0 1 0 0 0 0 1 1 0 0 1 1\n",
      " 1 1 1 1 1 1 1 0 0 1 1 0 0 1 1 1 1 1 0 1 0]\n",
      "accuracy: 0.6872427983539094\n",
      "confusion matrix:\n",
      " [[71 37]\n",
      " [39 96]]\n",
      "ROC AUC: 0.6842592592592593\n",
      "PR AUC: 0.6737770351805439\n"
     ]
    },
    {
     "data": {
      "text/plain": [
       "{'accuracy': 0.6872427983539094,\n",
       " 'confusion_matrix': array([[71, 37],\n",
       "        [39, 96]]),\n",
       " 'roc_auc': 0.6842592592592593,\n",
       " 'pr_auc': 0.6737770351805439}"
      ]
     },
     "execution_count": 167,
     "metadata": {},
     "output_type": "execute_result"
    }
   ],
   "source": [
    "#gb\n",
    "p.performance()"
   ]
  },
  {
   "cell_type": "code",
   "execution_count": 164,
   "id": "c5ac7998",
   "metadata": {},
   "outputs": [
    {
     "name": "stdout",
     "output_type": "stream",
     "text": [
      "[1 0 1 1 0 1 1 1 0 0 1 0 0 1 1 0 0 1 1 0 1 1 0 1 1 0 1 1 1 0 0 0 1 1 0 0 1\n",
      " 0 0 1 1 1 0 1 0 1 0 1 1 1 1 0 0 1 1 0 0 1 1 1 0 1 1 1 1 1 1 0 1 0 1 1 1 1\n",
      " 0 0 0 1 0 0 0 1 1 0 1 0 1 1 0 0 1 1 1 1 1 0 1 1 0 0 1 1 1 1 0 1 1 0 0 0 1\n",
      " 1 1 1 0 0 0 1 1 1 1 0 1 1 0 0 1 1 1 1 0 0 1 1 1 0 0 0 1 1 0 0 1 1 1 1 1 1\n",
      " 0 0 1 0 1 0 1 0 1 0 0 1 0 0 0 0 0 0 0 1 1 1 0 1 1 0 1 1 1 1 1 1 1 0 0 1 0\n",
      " 1 1 1 1 1 1 1 0 1 1 1 1 1 1 0 1 0 1 1 1 0 0 1 1 0 1 1 1 1 1 1 1 1 1 1 0 1\n",
      " 1 0 0 0 0 1 1 1 0 0 1 1 1 1 1 1 1 1 1 1 0]\n",
      "accuracy: 0.6790123456790124\n",
      "confusion matrix:\n",
      " [[ 63  28]\n",
      " [ 50 102]]\n",
      "ROC AUC: 0.6816801619433198\n",
      "PR AUC: 0.7322795354959099\n"
     ]
    },
    {
     "data": {
      "text/plain": [
       "{'accuracy': 0.6790123456790124,\n",
       " 'confusion_matrix': array([[ 63,  28],\n",
       "        [ 50, 102]]),\n",
       " 'roc_auc': 0.6816801619433198,\n",
       " 'pr_auc': 0.7322795354959099}"
      ]
     },
     "execution_count": 164,
     "metadata": {},
     "output_type": "execute_result"
    }
   ],
   "source": [
    "#rf\n",
    "p.performance()"
   ]
  },
  {
   "cell_type": "code",
   "execution_count": 158,
   "id": "8914c679",
   "metadata": {},
   "outputs": [
    {
     "name": "stdout",
     "output_type": "stream",
     "text": [
      "[0 1 0 1 1 0 0 0 0 1 1 1 1 1 0 0 0 1 1 0 0 0 1 0 1 1 1 0 1 1 1 0 0 0 0 1 1\n",
      " 1 1 0 0 0 1 0 1 1 0 1 0 1 1 0 0 1 0 0 0 1 1 0 0 0 1 0 1 1 0 1 0 0 1 1 1 0\n",
      " 0 1 1 1 0 0 0 0 1 0 1 1 1 0 0 0 0 0 0 1 0 0 1 0 1 0 1 1 1 0 0 1 0 0 0 0 0\n",
      " 1 0 1 0 0 0 0 0 0 0 0 0 1 0 1 0 0 1 0 1 1 1 0 0 0 0 0 0 1 0 1 1 1 0 0 0 0\n",
      " 1 0 1 1 0 1 0 0 0 1 0 0 0 1 1 0 0 0 1 1 1 1 0 0 0 1 1 1 1 0 1 0 1 0 1 1 0\n",
      " 1 0 0 1 0 1 1 0 0 0 0 1 0 0 1 0 1 1 0 1 1 1 0 0 1 0 0 0 0 0 0 1 1 0 0 1 0\n",
      " 0 0 1 0 0 1 0 0 1 0 1 0 1 0 1 0 0 0 0 0 0]\n",
      "accuracy: 0.6790123456790124\n",
      "confusion matrix:\n",
      " [[84 56]\n",
      " [22 81]]\n",
      "ROC AUC: 0.6932038834951456\n",
      "PR AUC: 0.5554913964035296\n"
     ]
    },
    {
     "data": {
      "text/plain": [
       "{'accuracy': 0.6790123456790124,\n",
       " 'confusion_matrix': array([[84, 56],\n",
       "        [22, 81]]),\n",
       " 'roc_auc': 0.6932038834951456,\n",
       " 'pr_auc': 0.5554913964035296}"
      ]
     },
     "execution_count": 158,
     "metadata": {},
     "output_type": "execute_result"
    }
   ],
   "source": [
    "#KNN(5)\n",
    "p.performance()"
   ]
  },
  {
   "cell_type": "code",
   "execution_count": 128,
   "id": "116b742f",
   "metadata": {},
   "outputs": [
    {
     "name": "stdout",
     "output_type": "stream",
     "text": [
      "accuracy: 0.8106995884773662\n",
      "confusion matrix:\n",
      " [[ 92  32]\n",
      " [ 14 105]]\n",
      "ROC AUC: 0.8121442125237192\n",
      "PR AUC: 0.7338690725456622\n"
     ]
    }
   ],
   "source": [
    "#GNB\n",
    "p.performance()"
   ]
  },
  {
   "cell_type": "code",
   "execution_count": 123,
   "id": "d791e295",
   "metadata": {},
   "outputs": [
    {
     "name": "stdout",
     "output_type": "stream",
     "text": [
      "accuracy: 0.8148148148148148\n",
      "confusion matrix:\n",
      " [[ 91  24]\n",
      " [ 21 107]]\n",
      "ROC AUC: 0.8136209239130435\n",
      "PR AUC: 0.7692083981245877\n"
     ]
    }
   ],
   "source": [
    "# MNB\n",
    "p.performance()"
   ]
  },
  {
   "cell_type": "code",
   "execution_count": 114,
   "id": "4ea7265f",
   "metadata": {},
   "outputs": [
    {
     "name": "stdout",
     "output_type": "stream",
     "text": [
      "accuracy: 0.7283950617283951\n",
      "confusion matrix:\n",
      " [[83 41]\n",
      " [25 94]]\n",
      "ROC AUC: 0.729635402548116\n",
      "PR AUC: 0.6528962202164816\n"
     ]
    }
   ],
   "source": [
    "#DT\n",
    "p.performance()"
   ]
  },
  {
   "cell_type": "code",
   "execution_count": null,
   "id": "4eb0406e",
   "metadata": {},
   "outputs": [],
   "source": []
  }
 ],
 "metadata": {
  "kernelspec": {
   "display_name": "Python 3",
   "language": "python",
   "name": "python3"
  },
  "language_info": {
   "codemirror_mode": {
    "name": "ipython",
    "version": 3
   },
   "file_extension": ".py",
   "mimetype": "text/x-python",
   "name": "python",
   "nbconvert_exporter": "python",
   "pygments_lexer": "ipython3",
   "version": "3.8.11"
  }
 },
 "nbformat": 4,
 "nbformat_minor": 5
}
