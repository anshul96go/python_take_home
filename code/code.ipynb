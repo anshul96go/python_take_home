{
 "cells": [
  {
   "cell_type": "code",
   "execution_count": 357,
   "id": "a59dfc9c",
   "metadata": {},
   "outputs": [],
   "source": [
    "try:\n",
    "    from xgboost import XGBClassifier\n",
    "except:\n",
    "    !conda install -c conda-forge py-xgboost"
   ]
  },
  {
   "cell_type": "code",
   "execution_count": 358,
   "id": "22a09861",
   "metadata": {},
   "outputs": [],
   "source": [
    "import pandas as pd\n",
    "import numpy as np\n",
    "import seaborn as sns;\n",
    "import matplotlib.pyplot as plt\n",
    "\n",
    "from sklearn.linear_model import LogisticRegression\n",
    "from sklearn.tree import DecisionTreeClassifier\n",
    "from sklearn.naive_bayes import MultinomialNB,GaussianNB\n",
    "from sklearn.neighbors import KNeighborsClassifier\n",
    "from sklearn.ensemble import RandomForestClassifier,GradientBoostingClassifier\n",
    "from sklearn.svm import SVC\n",
    "from xgboost import XGBClassifier\n",
    "    \n",
    "from sklearn.model_selection import train_test_split,GridSearchCV\n",
    "\n",
    "from sklearn.metrics import confusion_matrix, accuracy_score, roc_auc_score, average_precision_score\n",
    "\n",
    "from sklearn.preprocessing import MinMaxScaler,StandardScaler\n"
   ]
  },
  {
   "cell_type": "code",
   "execution_count": 359,
   "id": "6035f8e6",
   "metadata": {},
   "outputs": [],
   "source": [
    "class Prediction:\n",
    "    \n",
    "    def __init__(self,X,y):\n",
    "        self.X = X\n",
    "        self.y = y\n",
    "        self.X_train, self.X_test, self.y_train, self.y_test,self.y_pred = None,None,None,None,None\n",
    "        self.model = None\n",
    "    \n",
    "    \n",
    "    def feature_selection(self):\n",
    "        \n",
    "        # select features with missing values less than 60%\n",
    "        req_cols, final_req_cols = [],[]\n",
    "        X = self.X\n",
    "        for col in self.X.columns:\n",
    "            miss_rate = round(X[col].isna().sum()/len(X),2)\n",
    "            if miss_rate < 0.6:\n",
    "                req_cols.append(col)\n",
    "        \n",
    "        # select features with correlation > 0.2\n",
    "        '''\n",
    "        Improvements:\n",
    "        1. Add visualizations\n",
    "        2. Create different correlations for different type of variables (refer notebook)\n",
    "        '''\n",
    "        df = X[req_cols]\n",
    "        df['target'] = self.y\n",
    "#         g = sns.pairplot(df,hue = 'target', diag_kind= 'hist',\n",
    "#                      vars=df.columns[:-1],\n",
    "#                      plot_kws=dict(alpha=0.5), \n",
    "#                      diag_kws=dict(alpha=0.5))\n",
    "#         plt.show()\n",
    "        corr_matrix = df.corr()\n",
    "        for col in req_cols:\n",
    "            if abs(corr_matrix[\"target\"][col])>0.2:\n",
    "                final_req_cols.append(col)\n",
    "\n",
    "        # update X dataframe which contain only selected features\n",
    "        self.X = X[final_req_cols]\n",
    "        \n",
    "    \n",
    "    def data_split(self, split=0.2):\n",
    "        self.X_train, self.X_test, self.y_train, self.y_test = train_test_split(self.X,self.y,train_size=split)\n",
    "        \n",
    "    \n",
    "    def data_normalization(self):\n",
    "        cols = self.X.columns\n",
    "        scaler = MinMaxScaler()\n",
    "        scaler.fit(self.X)\n",
    "        self.X = pd.DataFrame(scaler.transform(self.X))\n",
    "        self.X.columns = cols\n",
    "    \n",
    "    def logistic_regression(self):\n",
    "        self.model = LogisticRegression()\n",
    "    \n",
    "    \n",
    "    def decision_tree(self):\n",
    "        self.model = DecisionTreeClassifier()\n",
    "    \n",
    "    \n",
    "    def multinomial_naive_bayes(self):\n",
    "        self.model = MultinomialNB()\n",
    "       \n",
    "    \n",
    "    def gaussian_naive_bayes(self):\n",
    "        self.model = GaussianNB()\n",
    "    \n",
    "    \n",
    "    def knn(self):\n",
    "        self.model = KNeighborsClassifier()\n",
    "    \n",
    "    \n",
    "    def rf(self,n_trees=100,criteria='gini',max_depth=None):\n",
    "        self.model = RandomForestClassifier(n_estimators=n_trees, criterion=criteria, max_depth=max_depth)\n",
    "    \n",
    "    \n",
    "    def xgb(self):\n",
    "        self.model = XGBClassifier(objective=\"binary:logistic\")\n",
    "    \n",
    "    \n",
    "    def svm(self):\n",
    "        self.model = SVC(gamma='auto')\n",
    "    \n",
    "    def gradient_boost(self,n_estimators=100, learning_rate=1.0,max_depth=1, random_state=0):\n",
    "        self.model = GradientBoostingClassifier(n_estimators=n_estimators, learning_rate=learning_rate,max_depth=max_depth, random_state=random_state)\n",
    "        \n",
    "    \n",
    "    \n",
    "    def parameter_tuning(self,model='knn',scoring='accuracy',cv=5,given_params=False):\n",
    "        \n",
    "        # check if the parameter grid is given or have to use the the default one\n",
    "        if given_params==False:\n",
    "            # use predefined parameters for each model\n",
    "            if model=='knn':\n",
    "                self.knn()\n",
    "                params = [{'n_neighbors':[3,5,7,9], \n",
    "                           'weights':['uniform','distance'],\n",
    "                           'leaf_size':[15,20,30]}] \n",
    "            if model=='logistic_regression':\n",
    "                self.logistic_regression()\n",
    "                params = [{'penalty':['none','l2','elasticnet','l1'], 'C':[0.001,0.01,0.1,1,10,100,1000], 'fit_intercept':[True,False]}]\n",
    "            if model== \"decision_tree\":\n",
    "                self.decision_tree()\n",
    "                params = [{'criterion':['gini','entropy'],'max_depth':[3,5,10,15,20,50]}]\n",
    "            if model=='multinomial_naive_bayes':\n",
    "                self.multinomial_naive_bayes()\n",
    "                params = [{'alpha': [1, 0.1, 0.01, 0.001, 0.0001, 0.00001]}]\n",
    "            if model==\"gaussian_naive_bayes\":\n",
    "                self.gaussian_naive_bayes()\n",
    "                print(\"Message: No hyperparameter to tune for gaussian naive bayes, use predict() function to get predictions!\")\n",
    "                return\n",
    "            if model==\"rf\":\n",
    "                self.rf()\n",
    "                params = [{'n_estimators':[10,50,100,200],\n",
    "                           'criterion':['gini','entropy'],\n",
    "                           'max_features': ['auto', 'sqrt', 'log2'],\n",
    "                           'max_depth':[3,5,10,20]}]\n",
    "            if model==\"xgb\":\n",
    "                self.xgb()\n",
    "                params=[{'max_depth': [3,6,9,12],\n",
    "                        'subsample': [0.8,0.9,1.0]}]\n",
    "            if model=='svm':\n",
    "                self.svm()\n",
    "                params = [{'C': [1, 10], 'kernel': ('linear', 'rbf')}]\n",
    "            \n",
    "        # use parameter grid given\n",
    "        else:\n",
    "            params = given_params\n",
    "            if model=='knn':\n",
    "                self.knn()\n",
    "            if model=='logistic_regression':\n",
    "                self.logistic_regression()\n",
    "            if model== \"decision_tree\":\n",
    "                self.decision_tree()\n",
    "            if model=='multinomial_naive_bayes':\n",
    "                self.multinomial_naive_bayes()\n",
    "            if model==\"gaussian_naive_bayes\":\n",
    "                self.gaussian_naive_bayes()\n",
    "                print(\"Message: No hyperparameter to tune for gaussian naive bayes, use predict() function to get predictions!\")\n",
    "                return        \n",
    "            if model==\"rf\":\n",
    "                self.rf()\n",
    "            if model==\"xgb\":\n",
    "                self.xgb()\n",
    "            if model=='svm':\n",
    "                self.svm()\n",
    "                \n",
    "        # initialise grid search\n",
    "        gs = GridSearchCV(estimator=self.model,\n",
    "                  param_grid = params,\n",
    "                  scoring=scoring,\n",
    "                  cv=cv,\n",
    "                  verbose=0)\n",
    "        \n",
    "        \n",
    "        # fit the data and get results\n",
    "        try:\n",
    "            gs.fit(self.X_train,self.y_train)\n",
    "            print(\"best params: \",gs.best_params_)\n",
    "            print(\"score: \",gs.score(self.X_train,self.y_train))\n",
    "            self.model = gs\n",
    "        except:\n",
    "            print(\"Message: The parameters you entered doesn't match the input format. Please refer to the parameter_tuning function to understand the input format for parameter ranges\")\n",
    "            return\n",
    "        \n",
    "\n",
    "    def predict(self):\n",
    "        # fit/train the model\n",
    "        clf = self.model.fit(self.X_train, self.y_train)\n",
    "        \n",
    "        # make predictions\n",
    "        self.y_pred = clf.predict(self.X_test)\n",
    "    \n",
    "    \n",
    "    def performance(self,threshold=0.5):\n",
    "        '''\n",
    "        Improvements\n",
    "        1. Add visualisations\n",
    "        2. Read and explain the performannce matrix\n",
    "        '''\n",
    "        \n",
    "        \n",
    "#         # convert probability to binary output using given threshold (parameter)\n",
    "#         y_pred_binary = (self.y_pred>threshold).astype(int)\n",
    "#         print(y_pred_binary)\n",
    "#         print(self.y_pred)\n",
    "        \n",
    "        # accuracy\n",
    "        accuracy = accuracy_score(self.y_pred, self.y_test)\n",
    "        print(\"accuracy:\",accuracy)\n",
    "        \n",
    "        # confusion mat/rix\n",
    "        cm = confusion_matrix(self.y_pred, self.y_test)\n",
    "        print(\"confusion matrix:\\n\",cm)\n",
    "        \n",
    "        # roc_auc\n",
    "        roc_auc = roc_auc_score(self.y_pred, self.y_test)\n",
    "        print(\"ROC AUC:\",roc_auc)\n",
    "        \n",
    "        # pr_auc\n",
    "        pr_auc = average_precision_score(self.y_pred, self.y_test)\n",
    "        print(\"PR AUC:\",pr_auc)\n",
    "        \n",
    "        return {'accuracy':accuracy, 'confusion_matrix':cm, 'roc_auc':roc_auc, 'pr_auc':pr_auc}"
   ]
  },
  {
   "cell_type": "code",
   "execution_count": 354,
   "id": "c89be3dc",
   "metadata": {},
   "outputs": [],
   "source": [
    "data = pd.read_csv('../input/heart.csv')\n",
    "X = data[data.columns[:-1]]\n",
    "y = data[data.columns[-1]]"
   ]
  },
  {
   "cell_type": "code",
   "execution_count": 355,
   "id": "07be4b92",
   "metadata": {},
   "outputs": [
    {
     "data": {
      "text/plain": [
       "GridSearchCV(cv=5,\n",
       "             estimator=XGBClassifier(base_score=None, booster=None,\n",
       "                                     colsample_bylevel=None,\n",
       "                                     colsample_bynode=None,\n",
       "                                     colsample_bytree=None,\n",
       "                                     enable_categorical=False, gamma=None,\n",
       "                                     gpu_id=None, importance_type=None,\n",
       "                                     interaction_constraints=None,\n",
       "                                     learning_rate=None, max_delta_step=None,\n",
       "                                     max_depth=None, min_child_weight=None,\n",
       "                                     missing=nan, monotone_constraints=None,\n",
       "                                     n_estimators=100, n_jobs=None,\n",
       "                                     num_parallel_tree=None, predictor=None,\n",
       "                                     random_state=None, reg_alpha=None,\n",
       "                                     reg_lambda=None, scale_pos_weight=None,\n",
       "                                     subsample=None, tree_method=None,\n",
       "                                     validate_parameters=None, verbosity=None),\n",
       "             param_grid=[{'max_depth': [3, 6, 9, 12],\n",
       "                          'subsample': [0.8, 0.9, 1.0]}],\n",
       "             scoring='accuracy')"
      ]
     },
     "execution_count": 355,
     "metadata": {},
     "output_type": "execute_result"
    }
   ],
   "source": [
    "p.model"
   ]
  },
  {
   "cell_type": "code",
   "execution_count": null,
   "id": "addb58c5",
   "metadata": {},
   "outputs": [],
   "source": [
    "def main(data='data_file_path'):\n",
    "    \n",
    "    # read the data\n",
    "    data = pd.read_csv('../input/heart.csv')\n",
    "    X = data[data.columns[:-1]]\n",
    "    y = data[data.columns[-1]]\n",
    "    \n",
    "    # with parameter tuning\n",
    "\n",
    "    # call class\n",
    "    p = Prediction(X,y)\n",
    "\n",
    "    # data normalization\n",
    "    p.data_normalization()\n",
    "\n",
    "    # feature engineering\n",
    "    p.feature_selection()\n",
    "\n",
    "    # split data into train and test\n",
    "    p.data_split()\n",
    "\n",
    "    # parameter tuning\n",
    "    p.parameter_tuning(model='svm')\n",
    "\n",
    "    # make predictions\n",
    "    p.predict()\n",
    "\n",
    "    # get model performance\n",
    "    performance = p.performance()\n",
    "    \n",
    "    performance.to_txt('')\n",
    "    \n",
    "    "
   ]
  },
  {
   "cell_type": "code",
   "execution_count": null,
   "id": "8b3f8f3e",
   "metadata": {},
   "outputs": [],
   "source": [
    "if __name__ == '__main__':\n",
    "    main()"
   ]
  },
  {
   "cell_type": "code",
   "execution_count": 356,
   "id": "68ee1ca3",
   "metadata": {
    "scrolled": true
   },
   "outputs": [
    {
     "name": "stdout",
     "output_type": "stream",
     "text": [
      "best params:  {'C': 1, 'kernel': 'linear'}\n",
      "score:  0.8333333333333334\n",
      "accuracy: 0.8477366255144033\n",
      "confusion matrix:\n",
      " [[ 85  11]\n",
      " [ 26 121]]\n",
      "ROC AUC: 0.8542729591836735\n",
      "PR AUC: 0.8615310321659527\n"
     ]
    }
   ],
   "source": [
    "# with parameter tuning\n",
    "\n",
    "# call class\n",
    "p = Prediction(X,y)\n",
    "\n",
    "# data normalization\n",
    "p.data_normalization()\n",
    "\n",
    "# feature engineering\n",
    "p.feature_selection()\n",
    "\n",
    "# split data into train and test\n",
    "p.data_split()\n",
    "\n",
    "# parameter tuning\n",
    "p.parameter_tuning(model='svm')\n",
    "\n",
    "# make predictions\n",
    "p.predict()\n",
    "\n",
    "# get model performance\n",
    "performance = p.performance()"
   ]
  },
  {
   "cell_type": "code",
   "execution_count": 352,
   "id": "78e8e3b9",
   "metadata": {},
   "outputs": [
    {
     "data": {
      "text/plain": [
       "{'accuracy': 0.7777777777777778,\n",
       " 'confusion_matrix': array([[ 85,  30],\n",
       "        [ 24, 104]]),\n",
       " 'roc_auc': 0.7758152173913043,\n",
       " 'pr_auc': 0.7293624470241385}"
      ]
     },
     "execution_count": 352,
     "metadata": {},
     "output_type": "execute_result"
    }
   ],
   "source": [
    "performance"
   ]
  },
  {
   "cell_type": "code",
   "execution_count": 291,
   "id": "a78cbed3",
   "metadata": {},
   "outputs": [
    {
     "name": "stdout",
     "output_type": "stream",
     "text": [
      "params:  [{'n_neighbors': [3], 'weights': ['uniform', 'distance'], 'leaf_size': [15, 20, 30]}]\n",
      "{'leaf_size': 15, 'n_neighbors': 3, 'weights': 'uniform'}\n",
      "0.9\n",
      "accuracy: 0.7777777777777778\n",
      "confusion matrix:\n",
      " [[ 81  22]\n",
      " [ 32 108]]\n",
      "ROC AUC: 0.7789181692094314\n",
      "PR AUC: 0.7725663636774748\n"
     ]
    }
   ],
   "source": [
    "# with parameter tuning\n",
    "\n",
    "# call class\n",
    "p = Prediction(X,y)\n",
    "\n",
    "# data normalization\n",
    "p.data_normalization()\n",
    "\n",
    "# feature engineering\n",
    "p.feature_selection()\n",
    "\n",
    "# split data into train and test\n",
    "p.data_split()\n",
    "\n",
    "# parameter tuning\n",
    "params = [{'n_neighbors':[3], \n",
    "           'weights':['uniform','distance'],\n",
    "           'leaf_size':[15,20,30]}] \n",
    "p.parameter_tuning(model='knn',given_params=params)\n",
    "\n",
    "# make predictions\n",
    "p.predict()\n",
    "\n",
    "# get model performance\n",
    "performace = p.performance()"
   ]
  },
  {
   "cell_type": "code",
   "execution_count": 220,
   "id": "ee4c95db",
   "metadata": {},
   "outputs": [],
   "source": [
    "# without parameter tuning\n",
    "p = Prediction(X,y)\n",
    "p.data_normalization()\n",
    "p.feature_selection()\n",
    "p.data_split()\n",
    "p.knn()\n",
    "p.predict()"
   ]
  },
  {
   "cell_type": "code",
   "execution_count": 221,
   "id": "c65d8f72",
   "metadata": {},
   "outputs": [
    {
     "name": "stdout",
     "output_type": "stream",
     "text": [
      "accuracy: 0.7983539094650206\n",
      "confusion matrix:\n",
      " [[ 78  18]\n",
      " [ 31 116]]\n",
      "ROC AUC: 0.8008078231292517\n",
      "PR AUC: 0.8106870535205052\n"
     ]
    },
    {
     "data": {
      "text/plain": [
       "{'accuracy': 0.7983539094650206,\n",
       " 'confusion_matrix': array([[ 78,  18],\n",
       "        [ 31, 116]]),\n",
       " 'roc_auc': 0.8008078231292517,\n",
       " 'pr_auc': 0.8106870535205052}"
      ]
     },
     "execution_count": 221,
     "metadata": {},
     "output_type": "execute_result"
    }
   ],
   "source": [
    "# svm\n",
    "p.performance()"
   ]
  },
  {
   "cell_type": "code",
   "execution_count": 214,
   "id": "2136dcd9",
   "metadata": {},
   "outputs": [
    {
     "name": "stdout",
     "output_type": "stream",
     "text": [
      "accuracy: 0.823045267489712\n",
      "confusion matrix:\n",
      " [[ 86  18]\n",
      " [ 25 114]]\n",
      "ROC AUC: 0.8235334809075816\n",
      "PR AUC: 0.8111867408430158\n"
     ]
    },
    {
     "data": {
      "text/plain": [
       "{'accuracy': 0.823045267489712,\n",
       " 'confusion_matrix': array([[ 86,  18],\n",
       "        [ 25, 114]]),\n",
       " 'roc_auc': 0.8235334809075816,\n",
       " 'pr_auc': 0.8111867408430158}"
      ]
     },
     "execution_count": 214,
     "metadata": {},
     "output_type": "execute_result"
    }
   ],
   "source": [
    "#xgb\n",
    "p.performance()"
   ]
  },
  {
   "cell_type": "code",
   "execution_count": null,
   "id": "3886a507",
   "metadata": {},
   "outputs": [],
   "source": [
    "# xgboost\n",
    "p.performance()"
   ]
  },
  {
   "cell_type": "code",
   "execution_count": 167,
   "id": "35a07680",
   "metadata": {},
   "outputs": [
    {
     "name": "stdout",
     "output_type": "stream",
     "text": [
      "[0 1 1 1 1 0 1 0 0 1 0 0 0 1 1 0 1 0 0 1 0 0 1 1 0 1 0 0 0 1 1 0 0 1 0 0 1\n",
      " 0 0 1 0 1 0 0 0 0 1 1 1 1 0 1 1 1 1 1 1 0 1 0 1 1 1 0 1 1 1 0 0 0 1 0 1 0\n",
      " 1 1 1 1 0 0 1 1 1 0 0 1 1 1 0 1 1 1 0 0 1 1 1 1 1 0 0 1 1 1 1 1 1 0 1 1 0\n",
      " 0 0 1 1 0 0 0 1 0 1 1 0 0 1 1 1 0 0 1 1 1 1 0 1 0 0 0 0 1 0 0 0 1 0 0 0 0\n",
      " 0 1 1 1 0 1 0 1 0 1 0 1 1 0 1 1 1 1 1 1 1 1 0 0 0 0 0 0 1 1 0 0 0 0 1 1 1\n",
      " 1 1 1 0 1 0 1 1 0 1 0 1 0 1 1 1 0 0 1 1 0 1 1 0 0 0 1 0 0 0 0 1 1 0 0 1 1\n",
      " 1 1 1 1 1 1 1 0 0 1 1 0 0 1 1 1 1 1 0 1 0]\n",
      "accuracy: 0.6872427983539094\n",
      "confusion matrix:\n",
      " [[71 37]\n",
      " [39 96]]\n",
      "ROC AUC: 0.6842592592592593\n",
      "PR AUC: 0.6737770351805439\n"
     ]
    },
    {
     "data": {
      "text/plain": [
       "{'accuracy': 0.6872427983539094,\n",
       " 'confusion_matrix': array([[71, 37],\n",
       "        [39, 96]]),\n",
       " 'roc_auc': 0.6842592592592593,\n",
       " 'pr_auc': 0.6737770351805439}"
      ]
     },
     "execution_count": 167,
     "metadata": {},
     "output_type": "execute_result"
    }
   ],
   "source": [
    "#gb\n",
    "p.performance()"
   ]
  },
  {
   "cell_type": "code",
   "execution_count": 164,
   "id": "36683e56",
   "metadata": {},
   "outputs": [
    {
     "name": "stdout",
     "output_type": "stream",
     "text": [
      "[1 0 1 1 0 1 1 1 0 0 1 0 0 1 1 0 0 1 1 0 1 1 0 1 1 0 1 1 1 0 0 0 1 1 0 0 1\n",
      " 0 0 1 1 1 0 1 0 1 0 1 1 1 1 0 0 1 1 0 0 1 1 1 0 1 1 1 1 1 1 0 1 0 1 1 1 1\n",
      " 0 0 0 1 0 0 0 1 1 0 1 0 1 1 0 0 1 1 1 1 1 0 1 1 0 0 1 1 1 1 0 1 1 0 0 0 1\n",
      " 1 1 1 0 0 0 1 1 1 1 0 1 1 0 0 1 1 1 1 0 0 1 1 1 0 0 0 1 1 0 0 1 1 1 1 1 1\n",
      " 0 0 1 0 1 0 1 0 1 0 0 1 0 0 0 0 0 0 0 1 1 1 0 1 1 0 1 1 1 1 1 1 1 0 0 1 0\n",
      " 1 1 1 1 1 1 1 0 1 1 1 1 1 1 0 1 0 1 1 1 0 0 1 1 0 1 1 1 1 1 1 1 1 1 1 0 1\n",
      " 1 0 0 0 0 1 1 1 0 0 1 1 1 1 1 1 1 1 1 1 0]\n",
      "accuracy: 0.6790123456790124\n",
      "confusion matrix:\n",
      " [[ 63  28]\n",
      " [ 50 102]]\n",
      "ROC AUC: 0.6816801619433198\n",
      "PR AUC: 0.7322795354959099\n"
     ]
    },
    {
     "data": {
      "text/plain": [
       "{'accuracy': 0.6790123456790124,\n",
       " 'confusion_matrix': array([[ 63,  28],\n",
       "        [ 50, 102]]),\n",
       " 'roc_auc': 0.6816801619433198,\n",
       " 'pr_auc': 0.7322795354959099}"
      ]
     },
     "execution_count": 164,
     "metadata": {},
     "output_type": "execute_result"
    }
   ],
   "source": [
    "#rf\n",
    "p.performance()"
   ]
  },
  {
   "cell_type": "code",
   "execution_count": 158,
   "id": "2216ce5f",
   "metadata": {},
   "outputs": [
    {
     "name": "stdout",
     "output_type": "stream",
     "text": [
      "[0 1 0 1 1 0 0 0 0 1 1 1 1 1 0 0 0 1 1 0 0 0 1 0 1 1 1 0 1 1 1 0 0 0 0 1 1\n",
      " 1 1 0 0 0 1 0 1 1 0 1 0 1 1 0 0 1 0 0 0 1 1 0 0 0 1 0 1 1 0 1 0 0 1 1 1 0\n",
      " 0 1 1 1 0 0 0 0 1 0 1 1 1 0 0 0 0 0 0 1 0 0 1 0 1 0 1 1 1 0 0 1 0 0 0 0 0\n",
      " 1 0 1 0 0 0 0 0 0 0 0 0 1 0 1 0 0 1 0 1 1 1 0 0 0 0 0 0 1 0 1 1 1 0 0 0 0\n",
      " 1 0 1 1 0 1 0 0 0 1 0 0 0 1 1 0 0 0 1 1 1 1 0 0 0 1 1 1 1 0 1 0 1 0 1 1 0\n",
      " 1 0 0 1 0 1 1 0 0 0 0 1 0 0 1 0 1 1 0 1 1 1 0 0 1 0 0 0 0 0 0 1 1 0 0 1 0\n",
      " 0 0 1 0 0 1 0 0 1 0 1 0 1 0 1 0 0 0 0 0 0]\n",
      "accuracy: 0.6790123456790124\n",
      "confusion matrix:\n",
      " [[84 56]\n",
      " [22 81]]\n",
      "ROC AUC: 0.6932038834951456\n",
      "PR AUC: 0.5554913964035296\n"
     ]
    },
    {
     "data": {
      "text/plain": [
       "{'accuracy': 0.6790123456790124,\n",
       " 'confusion_matrix': array([[84, 56],\n",
       "        [22, 81]]),\n",
       " 'roc_auc': 0.6932038834951456,\n",
       " 'pr_auc': 0.5554913964035296}"
      ]
     },
     "execution_count": 158,
     "metadata": {},
     "output_type": "execute_result"
    }
   ],
   "source": [
    "#KNN(5)\n",
    "p.performance()"
   ]
  },
  {
   "cell_type": "code",
   "execution_count": 128,
   "id": "4dba4265",
   "metadata": {},
   "outputs": [
    {
     "name": "stdout",
     "output_type": "stream",
     "text": [
      "accuracy: 0.8106995884773662\n",
      "confusion matrix:\n",
      " [[ 92  32]\n",
      " [ 14 105]]\n",
      "ROC AUC: 0.8121442125237192\n",
      "PR AUC: 0.7338690725456622\n"
     ]
    }
   ],
   "source": [
    "#GNB\n",
    "p.performance()"
   ]
  },
  {
   "cell_type": "code",
   "execution_count": 123,
   "id": "8b012656",
   "metadata": {},
   "outputs": [
    {
     "name": "stdout",
     "output_type": "stream",
     "text": [
      "accuracy: 0.8148148148148148\n",
      "confusion matrix:\n",
      " [[ 91  24]\n",
      " [ 21 107]]\n",
      "ROC AUC: 0.8136209239130435\n",
      "PR AUC: 0.7692083981245877\n"
     ]
    }
   ],
   "source": [
    "# MNB\n",
    "p.performance()"
   ]
  },
  {
   "cell_type": "code",
   "execution_count": 114,
   "id": "30898274",
   "metadata": {},
   "outputs": [
    {
     "name": "stdout",
     "output_type": "stream",
     "text": [
      "accuracy: 0.7283950617283951\n",
      "confusion matrix:\n",
      " [[83 41]\n",
      " [25 94]]\n",
      "ROC AUC: 0.729635402548116\n",
      "PR AUC: 0.6528962202164816\n"
     ]
    }
   ],
   "source": [
    "#DT\n",
    "p.performance()"
   ]
  },
  {
   "cell_type": "code",
   "execution_count": null,
   "id": "0bac8751",
   "metadata": {},
   "outputs": [],
   "source": []
  }
 ],
 "metadata": {
  "kernelspec": {
   "display_name": "Python 3",
   "language": "python",
   "name": "python3"
  },
  "language_info": {
   "codemirror_mode": {
    "name": "ipython",
    "version": 3
   },
   "file_extension": ".py",
   "mimetype": "text/x-python",
   "name": "python",
   "nbconvert_exporter": "python",
   "pygments_lexer": "ipython3",
   "version": "3.8.11"
  }
 },
 "nbformat": 4,
 "nbformat_minor": 5
}
